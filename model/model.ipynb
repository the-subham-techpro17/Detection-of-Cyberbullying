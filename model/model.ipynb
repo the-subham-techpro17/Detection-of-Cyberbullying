{
 "cells": [
  {
   "cell_type": "code",
   "execution_count": 1,
   "metadata": {},
   "outputs": [],
   "source": [
    "import numpy as np # linear algebra\n",
    "import pandas as pd # data processing, CSV file I/O (e.g. pd.read_csv)\n",
    "\n",
    "from sklearn.feature_extraction.text import CountVectorizer\n",
    "from tensorflow.keras.preprocessing.text import Tokenizer\n",
    "from tensorflow.keras.preprocessing.sequence import pad_sequences\n",
    "from tensorflow.keras.models import Sequential\n",
    "from tensorflow.keras.layers import Dense, Embedding, LSTM, SpatialDropout1D\n",
    "from sklearn.model_selection import train_test_split\n",
    "from keras.utils.np_utils import to_categorical\n",
    "import re"
   ]
  },
  {
   "cell_type": "code",
   "execution_count": 2,
   "metadata": {},
   "outputs": [],
   "source": [
    "import tensorflow as tf  "
   ]
  },
  {
   "cell_type": "code",
   "execution_count": 3,
   "metadata": {},
   "outputs": [],
   "source": [
    "#pip list"
   ]
  },
  {
   "cell_type": "code",
   "execution_count": 4,
   "metadata": {},
   "outputs": [],
   "source": [
    "data  = pd.read_csv('anti-bully-data.csv')"
   ]
  },
  {
   "cell_type": "code",
   "execution_count": 5,
   "metadata": {},
   "outputs": [
    {
     "data": {
      "text/html": [
       "<div>\n",
       "<style scoped>\n",
       "    .dataframe tbody tr th:only-of-type {\n",
       "        vertical-align: middle;\n",
       "    }\n",
       "\n",
       "    .dataframe tbody tr th {\n",
       "        vertical-align: top;\n",
       "    }\n",
       "\n",
       "    .dataframe thead th {\n",
       "        text-align: right;\n",
       "    }\n",
       "</style>\n",
       "<table border=\"1\" class=\"dataframe\">\n",
       "  <thead>\n",
       "    <tr style=\"text-align: right;\">\n",
       "      <th></th>\n",
       "      <th>label_bullying</th>\n",
       "      <th>text_message</th>\n",
       "    </tr>\n",
       "  </thead>\n",
       "  <tbody>\n",
       "    <tr>\n",
       "      <th>0</th>\n",
       "      <td>0</td>\n",
       "      <td>yeah I got 2 backups for all that. I just hate...</td>\n",
       "    </tr>\n",
       "    <tr>\n",
       "      <th>1</th>\n",
       "      <td>0</td>\n",
       "      <td>I hate using my BB  but love my iPhone. Haven'...</td>\n",
       "    </tr>\n",
       "    <tr>\n",
       "      <th>2</th>\n",
       "      <td>1</td>\n",
       "      <td>Get fucking real dude.</td>\n",
       "    </tr>\n",
       "    <tr>\n",
       "      <th>3</th>\n",
       "      <td>1</td>\n",
       "      <td>She is as dirty as they come  and that crook ...</td>\n",
       "    </tr>\n",
       "    <tr>\n",
       "      <th>4</th>\n",
       "      <td>1</td>\n",
       "      <td>why did you fuck it up. I could do it all day...</td>\n",
       "    </tr>\n",
       "    <tr>\n",
       "      <th>...</th>\n",
       "      <td>...</td>\n",
       "      <td>...</td>\n",
       "    </tr>\n",
       "    <tr>\n",
       "      <th>8823</th>\n",
       "      <td>0</td>\n",
       "      <td>no caffiene would kick my ass too - I'm addict...</td>\n",
       "    </tr>\n",
       "    <tr>\n",
       "      <th>8824</th>\n",
       "      <td>0</td>\n",
       "      <td>Now I'm hungry.  Damn you people and your midn...</td>\n",
       "    </tr>\n",
       "    <tr>\n",
       "      <th>8825</th>\n",
       "      <td>0</td>\n",
       "      <td>i've taken one also. people just piss me off m...</td>\n",
       "    </tr>\n",
       "    <tr>\n",
       "      <th>8826</th>\n",
       "      <td>0</td>\n",
       "      <td>That  too! Or even being able to park pulling ...</td>\n",
       "    </tr>\n",
       "    <tr>\n",
       "      <th>8827</th>\n",
       "      <td>1</td>\n",
       "      <td>. . . HE'S FUCKING HIMSELF!</td>\n",
       "    </tr>\n",
       "  </tbody>\n",
       "</table>\n",
       "<p>8828 rows × 2 columns</p>\n",
       "</div>"
      ],
      "text/plain": [
       "      label_bullying                                       text_message\n",
       "0                  0  yeah I got 2 backups for all that. I just hate...\n",
       "1                  0  I hate using my BB  but love my iPhone. Haven'...\n",
       "2                  1                             Get fucking real dude.\n",
       "3                  1   She is as dirty as they come  and that crook ...\n",
       "4                  1   why did you fuck it up. I could do it all day...\n",
       "...              ...                                                ...\n",
       "8823               0  no caffiene would kick my ass too - I'm addict...\n",
       "8824               0  Now I'm hungry.  Damn you people and your midn...\n",
       "8825               0  i've taken one also. people just piss me off m...\n",
       "8826               0  That  too! Or even being able to park pulling ...\n",
       "8827               1                        . . . HE'S FUCKING HIMSELF!\n",
       "\n",
       "[8828 rows x 2 columns]"
      ]
     },
     "execution_count": 5,
     "metadata": {},
     "output_type": "execute_result"
    }
   ],
   "source": [
    "data"
   ]
  },
  {
   "cell_type": "code",
   "execution_count": 6,
   "metadata": {},
   "outputs": [
    {
     "data": {
      "text/plain": [
       "array([0, 1], dtype=int64)"
      ]
     },
     "execution_count": 6,
     "metadata": {},
     "output_type": "execute_result"
    }
   ],
   "source": [
    "data['label_bullying'].unique()"
   ]
  },
  {
   "cell_type": "code",
   "execution_count": 7,
   "metadata": {},
   "outputs": [
    {
     "data": {
      "text/plain": [
       "(2517, 2)"
      ]
     },
     "execution_count": 7,
     "metadata": {},
     "output_type": "execute_result"
    }
   ],
   "source": [
    "data[data['label_bullying']==1].shape"
   ]
  },
  {
   "cell_type": "code",
   "execution_count": 8,
   "metadata": {},
   "outputs": [
    {
     "data": {
      "text/plain": [
       "(6311, 2)"
      ]
     },
     "execution_count": 8,
     "metadata": {},
     "output_type": "execute_result"
    }
   ],
   "source": [
    "data[data['label_bullying']==0].shape"
   ]
  },
  {
   "cell_type": "code",
   "execution_count": 9,
   "metadata": {},
   "outputs": [],
   "source": [
    "data =data.dropna()"
   ]
  },
  {
   "cell_type": "code",
   "execution_count": 10,
   "metadata": {},
   "outputs": [
    {
     "data": {
      "text/html": [
       "<div>\n",
       "<style scoped>\n",
       "    .dataframe tbody tr th:only-of-type {\n",
       "        vertical-align: middle;\n",
       "    }\n",
       "\n",
       "    .dataframe tbody tr th {\n",
       "        vertical-align: top;\n",
       "    }\n",
       "\n",
       "    .dataframe thead th {\n",
       "        text-align: right;\n",
       "    }\n",
       "</style>\n",
       "<table border=\"1\" class=\"dataframe\">\n",
       "  <thead>\n",
       "    <tr style=\"text-align: right;\">\n",
       "      <th></th>\n",
       "      <th>label_bullying</th>\n",
       "      <th>text_message</th>\n",
       "    </tr>\n",
       "  </thead>\n",
       "  <tbody>\n",
       "    <tr>\n",
       "      <th>0</th>\n",
       "      <td>0</td>\n",
       "      <td>yeah I got 2 backups for all that. I just hate...</td>\n",
       "    </tr>\n",
       "    <tr>\n",
       "      <th>1</th>\n",
       "      <td>0</td>\n",
       "      <td>I hate using my BB  but love my iPhone. Haven'...</td>\n",
       "    </tr>\n",
       "    <tr>\n",
       "      <th>2</th>\n",
       "      <td>1</td>\n",
       "      <td>Get fucking real dude.</td>\n",
       "    </tr>\n",
       "    <tr>\n",
       "      <th>3</th>\n",
       "      <td>1</td>\n",
       "      <td>She is as dirty as they come  and that crook ...</td>\n",
       "    </tr>\n",
       "    <tr>\n",
       "      <th>4</th>\n",
       "      <td>1</td>\n",
       "      <td>why did you fuck it up. I could do it all day...</td>\n",
       "    </tr>\n",
       "    <tr>\n",
       "      <th>...</th>\n",
       "      <td>...</td>\n",
       "      <td>...</td>\n",
       "    </tr>\n",
       "    <tr>\n",
       "      <th>8823</th>\n",
       "      <td>0</td>\n",
       "      <td>no caffiene would kick my ass too - I'm addict...</td>\n",
       "    </tr>\n",
       "    <tr>\n",
       "      <th>8824</th>\n",
       "      <td>0</td>\n",
       "      <td>Now I'm hungry.  Damn you people and your midn...</td>\n",
       "    </tr>\n",
       "    <tr>\n",
       "      <th>8825</th>\n",
       "      <td>0</td>\n",
       "      <td>i've taken one also. people just piss me off m...</td>\n",
       "    </tr>\n",
       "    <tr>\n",
       "      <th>8826</th>\n",
       "      <td>0</td>\n",
       "      <td>That  too! Or even being able to park pulling ...</td>\n",
       "    </tr>\n",
       "    <tr>\n",
       "      <th>8827</th>\n",
       "      <td>1</td>\n",
       "      <td>. . . HE'S FUCKING HIMSELF!</td>\n",
       "    </tr>\n",
       "  </tbody>\n",
       "</table>\n",
       "<p>8828 rows × 2 columns</p>\n",
       "</div>"
      ],
      "text/plain": [
       "      label_bullying                                       text_message\n",
       "0                  0  yeah I got 2 backups for all that. I just hate...\n",
       "1                  0  I hate using my BB  but love my iPhone. Haven'...\n",
       "2                  1                             Get fucking real dude.\n",
       "3                  1   She is as dirty as they come  and that crook ...\n",
       "4                  1   why did you fuck it up. I could do it all day...\n",
       "...              ...                                                ...\n",
       "8823               0  no caffiene would kick my ass too - I'm addict...\n",
       "8824               0  Now I'm hungry.  Damn you people and your midn...\n",
       "8825               0  i've taken one also. people just piss me off m...\n",
       "8826               0  That  too! Or even being able to park pulling ...\n",
       "8827               1                        . . . HE'S FUCKING HIMSELF!\n",
       "\n",
       "[8828 rows x 2 columns]"
      ]
     },
     "execution_count": 10,
     "metadata": {},
     "output_type": "execute_result"
    }
   ],
   "source": [
    "data "
   ]
  },
  {
   "cell_type": "code",
   "execution_count": 11,
   "metadata": {},
   "outputs": [
    {
     "data": {
      "text/plain": [
       "array(['yeah I got 2 backups for all that. I just hate when that happen. I been strugglin for a week now...handle that tho',\n",
       "       \"I hate using my BB  but love my iPhone. Haven't tried the new BB. My BB is provided by my corp. I don't get to pick which model\",\n",
       "       ' Get fucking real dude.', ...,\n",
       "       \"i've taken one also. people just piss me off more & more recently\",\n",
       "       'That  too! Or even being able to park pulling in forward rather than backwards--I hate when the car behind me pulls up and BLOCKS!',\n",
       "       \". . . HE'S FUCKING HIMSELF!\"], dtype=object)"
      ]
     },
     "execution_count": 11,
     "metadata": {},
     "output_type": "execute_result"
    }
   ],
   "source": [
    "data['text_message'].unique()"
   ]
  },
  {
   "cell_type": "code",
   "execution_count": 12,
   "metadata": {},
   "outputs": [],
   "source": [
    "data = data[['text_message','label_bullying']]"
   ]
  },
  {
   "cell_type": "code",
   "execution_count": 13,
   "metadata": {},
   "outputs": [],
   "source": [
    "data['text_message'] = data['text_message'].apply(lambda x: x.lower())\n",
    "data['text_message'] = data['text_message'].apply((lambda x: re.sub('[^a-zA-z0-9\\s]','',x)))"
   ]
  },
  {
   "cell_type": "code",
   "execution_count": 14,
   "metadata": {},
   "outputs": [],
   "source": [
    "for idx,row in data.iterrows():\n",
    "    row[0] = row[0].replace('rt',' ')\n",
    "    \n",
    "max_fatures = 2000\n",
    "tokenizer = Tokenizer(num_words=max_fatures, split=' ')\n",
    "tokenizer.fit_on_texts(data['text_message'].values)\n",
    "X = tokenizer.texts_to_sequences(data['text_message'].values)\n",
    "X = pad_sequences(X)"
   ]
  },
  {
   "cell_type": "code",
   "execution_count": 15,
   "metadata": {},
   "outputs": [
    {
     "data": {
      "text/plain": [
       "array([[   0,    0,    0, ...,  253,    6,  317],\n",
       "       [   0,    0,    0, ...,  545,  294, 1773],\n",
       "       [   0,    0,    0, ...,   35,  278,  149],\n",
       "       ...,\n",
       "       [   0,    0,    0, ...,   81,   81,  954],\n",
       "       [   0,    0,    0, ...,   41,    9, 1802],\n",
       "       [   0,    0,    0, ...,  144,   35, 1213]])"
      ]
     },
     "execution_count": 15,
     "metadata": {},
     "output_type": "execute_result"
    }
   ],
   "source": [
    "X"
   ]
  },
  {
   "cell_type": "code",
   "execution_count": 16,
   "metadata": {},
   "outputs": [
    {
     "name": "stdout",
     "output_type": "stream",
     "text": [
      "Model: \"sequential\"\n",
      "_________________________________________________________________\n",
      " Layer (type)                Output Shape              Param #   \n",
      "=================================================================\n",
      " embedding (Embedding)       (None, 30, 100)           200000    \n",
      "                                                                 \n",
      " spatial_dropout1d (SpatialD  (None, 30, 100)          0         \n",
      " ropout1D)                                                       \n",
      "                                                                 \n",
      " lstm (LSTM)                 (None, 126)               114408    \n",
      "                                                                 \n",
      " dense (Dense)               (None, 2)                 254       \n",
      "                                                                 \n",
      "=================================================================\n",
      "Total params: 314,662\n",
      "Trainable params: 314,662\n",
      "Non-trainable params: 0\n",
      "_________________________________________________________________\n",
      "None\n"
     ]
    }
   ],
   "source": [
    "embed_dim = 100\n",
    "lstm_out = 126\n",
    "\n",
    "model = Sequential()\n",
    "model.add(Embedding(max_fatures, embed_dim,input_length = X.shape[1]))\n",
    "model.add(SpatialDropout1D(0.4))\n",
    "model.add(LSTM(lstm_out, dropout=0.2, recurrent_dropout=0.2))\n",
    "model.add(Dense(2,activation='softmax'))\n",
    "model.compile(loss = 'categorical_crossentropy', optimizer='adam',metrics = ['accuracy'])\n",
    "print(model.summary())"
   ]
  },
  {
   "cell_type": "code",
   "execution_count": 17,
   "metadata": {},
   "outputs": [
    {
     "name": "stdout",
     "output_type": "stream",
     "text": [
      "(5914, 30) (5914, 2)\n",
      "(2914, 30) (2914, 2)\n"
     ]
    }
   ],
   "source": [
    "Y = pd.get_dummies(data['label_bullying']).values\n",
    "X_train, X_test, Y_train, Y_test = train_test_split(X,Y, test_size = 0.33, random_state = 42)\n",
    "print(X_train.shape,Y_train.shape)\n",
    "print(X_test.shape,Y_test.shape)"
   ]
  },
  {
   "cell_type": "code",
   "execution_count": 18,
   "metadata": {},
   "outputs": [
    {
     "name": "stdout",
     "output_type": "stream",
     "text": [
      "Epoch 1/20\n",
      "592/592 - 22s - loss: 0.5842 - accuracy: 0.7195 - 22s/epoch - 37ms/step\n",
      "Epoch 2/20\n",
      "592/592 - 19s - loss: 0.5371 - accuracy: 0.7371 - 19s/epoch - 32ms/step\n",
      "Epoch 3/20\n",
      "592/592 - 19s - loss: 0.4890 - accuracy: 0.7575 - 19s/epoch - 32ms/step\n",
      "Epoch 4/20\n",
      "592/592 - 19s - loss: 0.4364 - accuracy: 0.7934 - 19s/epoch - 32ms/step\n",
      "Epoch 5/20\n",
      "592/592 - 19s - loss: 0.3938 - accuracy: 0.8167 - 19s/epoch - 32ms/step\n",
      "Epoch 6/20\n",
      "592/592 - 19s - loss: 0.3576 - accuracy: 0.8367 - 19s/epoch - 32ms/step\n",
      "Epoch 7/20\n",
      "592/592 - 19s - loss: 0.3177 - accuracy: 0.8520 - 19s/epoch - 32ms/step\n",
      "Epoch 8/20\n",
      "592/592 - 19s - loss: 0.2870 - accuracy: 0.8678 - 19s/epoch - 32ms/step\n",
      "Epoch 9/20\n",
      "592/592 - 19s - loss: 0.2533 - accuracy: 0.8840 - 19s/epoch - 32ms/step\n",
      "Epoch 10/20\n",
      "592/592 - 19s - loss: 0.2331 - accuracy: 0.8972 - 19s/epoch - 32ms/step\n",
      "Epoch 11/20\n",
      "592/592 - 19s - loss: 0.2120 - accuracy: 0.9065 - 19s/epoch - 32ms/step\n",
      "Epoch 12/20\n",
      "592/592 - 19s - loss: 0.1929 - accuracy: 0.9165 - 19s/epoch - 32ms/step\n",
      "Epoch 13/20\n",
      "592/592 - 20s - loss: 0.1725 - accuracy: 0.9259 - 20s/epoch - 34ms/step\n",
      "Epoch 14/20\n",
      "592/592 - 19s - loss: 0.1637 - accuracy: 0.9259 - 19s/epoch - 33ms/step\n",
      "Epoch 15/20\n",
      "592/592 - 19s - loss: 0.1545 - accuracy: 0.9329 - 19s/epoch - 32ms/step\n",
      "Epoch 16/20\n",
      "592/592 - 20s - loss: 0.1407 - accuracy: 0.9390 - 20s/epoch - 33ms/step\n",
      "Epoch 17/20\n",
      "592/592 - 19s - loss: 0.1238 - accuracy: 0.9449 - 19s/epoch - 33ms/step\n",
      "Epoch 18/20\n",
      "592/592 - 19s - loss: 0.1220 - accuracy: 0.9432 - 19s/epoch - 32ms/step\n",
      "Epoch 19/20\n",
      "592/592 - 19s - loss: 0.1141 - accuracy: 0.9518 - 19s/epoch - 32ms/step\n",
      "Epoch 20/20\n",
      "592/592 - 19s - loss: 0.1177 - accuracy: 0.9503 - 19s/epoch - 32ms/step\n"
     ]
    },
    {
     "data": {
      "text/plain": [
       "<keras.callbacks.History at 0x16622ed9100>"
      ]
     },
     "execution_count": 18,
     "metadata": {},
     "output_type": "execute_result"
    }
   ],
   "source": [
    "batch_size = 10\n",
    "model.fit(X_train, Y_train, epochs = 20, batch_size=batch_size, verbose = 2)"
   ]
  },
  {
   "cell_type": "code",
   "execution_count": 19,
   "metadata": {},
   "outputs": [
    {
     "name": "stdout",
     "output_type": "stream",
     "text": [
      "185/185 [==============================] - 2s 7ms/step\n",
      "Confusion Matrix\n"
     ]
    }
   ],
   "source": [
    "\n",
    "y_test_arg=np.argmax(Y_train,axis=1)\n",
    "Y_pred = np.argmax(model.predict(X_train),axis=1)\n",
    "print('Confusion Matrix')"
   ]
  },
  {
   "cell_type": "code",
   "execution_count": 20,
   "metadata": {},
   "outputs": [],
   "source": [
    "import sklearn.metrics"
   ]
  },
  {
   "cell_type": "code",
   "execution_count": 21,
   "metadata": {},
   "outputs": [
    {
     "name": "stdout",
     "output_type": "stream",
     "text": [
      "              precision    recall  f1-score   support\n",
      "\n",
      "           0       0.98      0.99      0.98      4254\n",
      "           1       0.96      0.96      0.96      1660\n",
      "\n",
      "    accuracy                           0.98      5914\n",
      "   macro avg       0.97      0.97      0.97      5914\n",
      "weighted avg       0.98      0.98      0.98      5914\n",
      "\n"
     ]
    }
   ],
   "source": [
    "print(sklearn.metrics.classification_report(y_test_arg, Y_pred))"
   ]
  },
  {
   "cell_type": "code",
   "execution_count": 22,
   "metadata": {},
   "outputs": [],
   "source": [
    "from sklearn.metrics import confusion_matrix"
   ]
  },
  {
   "cell_type": "code",
   "execution_count": 23,
   "metadata": {},
   "outputs": [
    {
     "name": "stdout",
     "output_type": "stream",
     "text": [
      "[[4194   60]\n",
      " [  73 1587]]\n"
     ]
    }
   ],
   "source": [
    "print(confusion_matrix(y_test_arg, Y_pred))"
   ]
  },
  {
   "cell_type": "code",
   "execution_count": 24,
   "metadata": {},
   "outputs": [
    {
     "data": {
      "text/plain": [
       "array([[4194,   60],\n",
       "       [  73, 1587]], dtype=int64)"
      ]
     },
     "execution_count": 24,
     "metadata": {},
     "output_type": "execute_result"
    }
   ],
   "source": [
    "from sklearn.metrics import confusion_matrix\n",
    "cm=confusion_matrix(y_test_arg, Y_pred)\n",
    "cm\n"
   ]
  },
  {
   "cell_type": "code",
   "execution_count": 25,
   "metadata": {},
   "outputs": [
    {
     "data": {
      "image/png": "[encoded data removed]",
      "text/plain": [
       "<Figure size 360x360 with 2 Axes>"
      ]
     },
     "metadata": {
      "needs_background": "light"
     },
     "output_type": "display_data"
    }
   ],
   "source": [
    "import seaborn as sns\n",
    "import matplotlib.pyplot as plt\n",
    "\n",
    "f, ax=plt.subplots(figsize=(5,5))\n",
    "sns.heatmap(cm,annot=True,linewidths=0.5,linecolor=\"red\",fmt=\".0f\",ax=ax)\n",
    "plt.xlabel(\"y_pred\")\n",
    "plt.ylabel(\"y_true\")\n",
    "plt.show()"
   ]
  },
  {
   "cell_type": "code",
   "execution_count": 26,
   "metadata": {},
   "outputs": [],
   "source": [
    "import pickle"
   ]
  },
  {
   "cell_type": "code",
   "execution_count": 27,
   "metadata": {},
   "outputs": [],
   "source": [
    "with open('tokenizer.pickle', 'wb') as handle:\n",
    "    pickle.dump(tokenizer, handle, protocol=pickle.HIGHEST_PROTOCOL)"
   ]
  },
  {
   "cell_type": "code",
   "execution_count": 28,
   "metadata": {},
   "outputs": [],
   "source": [
    "model.save('lstms.h5')"
   ]
  },
  {
   "cell_type": "code",
   "execution_count": 53,
   "metadata": {},
   "outputs": [],
   "source": [
    "twt = [\"Hello Beautiful\"]\n",
    "#vectorizing the tweet by the pre-fitted tokenizer instance\n",
    "twt = tokenizer.texts_to_sequences(twt)"
   ]
  },
  {
   "cell_type": "code",
   "execution_count": 54,
   "metadata": {},
   "outputs": [
    {
     "name": "stdout",
     "output_type": "stream",
     "text": [
      "[[1950, 777]]\n"
     ]
    }
   ],
   "source": [
    "print(twt)"
   ]
  },
  {
   "cell_type": "code",
   "execution_count": 55,
   "metadata": {},
   "outputs": [
    {
     "name": "stdout",
     "output_type": "stream",
     "text": [
      "[[1950, 777]]\n"
     ]
    }
   ],
   "source": [
    "print(twt)"
   ]
  },
  {
   "cell_type": "code",
   "execution_count": 56,
   "metadata": {},
   "outputs": [
    {
     "name": "stdout",
     "output_type": "stream",
     "text": [
      "[[   0    0    0    0    0    0    0    0    0    0    0    0    0    0\n",
      "     0    0    0    0    0    0    0    0    0    0    0    0    0    0\n",
      "  1950  777]]\n",
      "1/1 - 0s - 15ms/epoch - 15ms/step\n",
      "[9.9993229e-01 6.7689834e-05]\n",
      "No_bullying\n"
     ]
    }
   ],
   "source": [
    "twt = pad_sequences(twt, maxlen=30, dtype='int32', value=0)\n",
    "print(twt)\n",
    "sentiment = model.predict(twt,batch_size=1,verbose = 2)[0]\n",
    "print(sentiment)\n",
    "if(np.argmax(sentiment) == 1):\n",
    "    print(\"bullying\")\n",
    "elif (np.argmax(sentiment) == 0):\n",
    "    print(\"No_bullying\")"
   ]
  },
  {
   "cell_type": "code",
   "execution_count": null,
   "metadata": {},
   "outputs": [],
   "source": [
    "\n",
    "\n"
   ]
  },
  {
   "cell_type": "code",
   "execution_count": null,
   "metadata": {},
   "outputs": [],
   "source": []
  }
 ],
 "metadata": {
  "kernelspec": {
   "display_name": "Python 3 (ipykernel)",
   "language": "python",
   "name": "python3"
  },
  "language_info": {
   "codemirror_mode": {
    "name": "ipython",
    "version": 3
   },
   "file_extension": ".py",
   "mimetype": "text/x-python",
   "name": "python",
   "nbconvert_exporter": "python",
   "pygments_lexer": "ipython3",
   "version": "3.9.12"
  }
 },
 "nbformat": 4,
 "nbformat_minor": 4
}
